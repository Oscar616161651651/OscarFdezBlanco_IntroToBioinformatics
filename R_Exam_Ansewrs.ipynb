{
 "cells": [
  {
   "cell_type": "markdown",
   "metadata": {},
   "source": [
    "# R Exam\n"
   ]
  },
  {
   "cell_type": "markdown",
   "metadata": {},
   "source": [
    "# 1. - Load the files GDP.csv and HDI.csv using read.csv()"
   ]
  },
  {
   "cell_type": "code",
   "execution_count": 6,
   "metadata": {},
   "outputs": [],
   "source": [
    "GDP_data <- read.csv(\"GDP.csv\", sep = \",\")\n",
    "HDI_data <- read.csv(\"HDI.csv\", sep = \",\")\n"
   ]
  },
  {
   "cell_type": "code",
   "execution_count": 4,
   "metadata": {},
   "outputs": [
    {
     "data": {
      "text/html": [
       "<table>\n",
       "<caption>A data.frame: 6 × 3</caption>\n",
       "<thead>\n",
       "\t<tr><th></th><th scope=col>Province</th><th scope=col>GDP.per.capita</th><th scope=col>CCAA</th></tr>\n",
       "\t<tr><th></th><th scope=col>&lt;chr&gt;</th><th scope=col>&lt;dbl&gt;</th><th scope=col>&lt;chr&gt;</th></tr>\n",
       "</thead>\n",
       "<tbody>\n",
       "\t<tr><th scope=row>1</th><td>Almería</td><td>20.873</td><td>Andalucía y Extremadura</td></tr>\n",
       "\t<tr><th scope=row>2</th><td>Cádiz  </td><td>18.029</td><td>Andalucía y Extremadura</td></tr>\n",
       "\t<tr><th scope=row>3</th><td>Córdoba</td><td>17.292</td><td>Andalucía y Extremadura</td></tr>\n",
       "\t<tr><th scope=row>4</th><td>Granada</td><td>17.167</td><td>Andalucía y Extremadura</td></tr>\n",
       "\t<tr><th scope=row>5</th><td>Huelva </td><td>18.207</td><td>Andalucía y Extremadura</td></tr>\n",
       "\t<tr><th scope=row>6</th><td>Jaén   </td><td>16.433</td><td>Andalucía y Extremadura</td></tr>\n",
       "</tbody>\n",
       "</table>\n"
      ],
      "text/latex": [
       "A data.frame: 6 × 3\n",
       "\\begin{tabular}{r|lll}\n",
       "  & Province & GDP.per.capita & CCAA\\\\\n",
       "  & <chr> & <dbl> & <chr>\\\\\n",
       "\\hline\n",
       "\t1 & Almería & 20.873 & Andalucía y Extremadura\\\\\n",
       "\t2 & Cádiz   & 18.029 & Andalucía y Extremadura\\\\\n",
       "\t3 & Córdoba & 17.292 & Andalucía y Extremadura\\\\\n",
       "\t4 & Granada & 17.167 & Andalucía y Extremadura\\\\\n",
       "\t5 & Huelva  & 18.207 & Andalucía y Extremadura\\\\\n",
       "\t6 & Jaén    & 16.433 & Andalucía y Extremadura\\\\\n",
       "\\end{tabular}\n"
      ],
      "text/markdown": [
       "\n",
       "A data.frame: 6 × 3\n",
       "\n",
       "| <!--/--> | Province &lt;chr&gt; | GDP.per.capita &lt;dbl&gt; | CCAA &lt;chr&gt; |\n",
       "|---|---|---|---|\n",
       "| 1 | Almería | 20.873 | Andalucía y Extremadura |\n",
       "| 2 | Cádiz   | 18.029 | Andalucía y Extremadura |\n",
       "| 3 | Córdoba | 17.292 | Andalucía y Extremadura |\n",
       "| 4 | Granada | 17.167 | Andalucía y Extremadura |\n",
       "| 5 | Huelva  | 18.207 | Andalucía y Extremadura |\n",
       "| 6 | Jaén    | 16.433 | Andalucía y Extremadura |\n",
       "\n"
      ],
      "text/plain": [
       "  Province GDP.per.capita CCAA                   \n",
       "1 Almería  20.873         Andalucía y Extremadura\n",
       "2 Cádiz    18.029         Andalucía y Extremadura\n",
       "3 Córdoba  17.292         Andalucía y Extremadura\n",
       "4 Granada  17.167         Andalucía y Extremadura\n",
       "5 Huelva   18.207         Andalucía y Extremadura\n",
       "6 Jaén     16.433         Andalucía y Extremadura"
      ]
     },
     "metadata": {},
     "output_type": "display_data"
    }
   ],
   "source": []
  },
  {
   "cell_type": "markdown",
   "metadata": {},
   "source": [
    "# 2. - Analyze the file that you have just loaded with head()  and str()"
   ]
  },
  {
   "cell_type": "code",
   "execution_count": 8,
   "metadata": {},
   "outputs": [
    {
     "data": {
      "text/html": [
       "<table>\n",
       "<caption>A data.frame: 6 × 3</caption>\n",
       "<thead>\n",
       "\t<tr><th></th><th scope=col>Province</th><th scope=col>GDP.per.capita</th><th scope=col>CCAA</th></tr>\n",
       "\t<tr><th></th><th scope=col>&lt;chr&gt;</th><th scope=col>&lt;dbl&gt;</th><th scope=col>&lt;chr&gt;</th></tr>\n",
       "</thead>\n",
       "<tbody>\n",
       "\t<tr><th scope=row>1</th><td>Almería</td><td>20.873</td><td>Andalucía y Extremadura</td></tr>\n",
       "\t<tr><th scope=row>2</th><td>Cádiz  </td><td>18.029</td><td>Andalucía y Extremadura</td></tr>\n",
       "\t<tr><th scope=row>3</th><td>Córdoba</td><td>17.292</td><td>Andalucía y Extremadura</td></tr>\n",
       "\t<tr><th scope=row>4</th><td>Granada</td><td>17.167</td><td>Andalucía y Extremadura</td></tr>\n",
       "\t<tr><th scope=row>5</th><td>Huelva </td><td>18.207</td><td>Andalucía y Extremadura</td></tr>\n",
       "\t<tr><th scope=row>6</th><td>Jaén   </td><td>16.433</td><td>Andalucía y Extremadura</td></tr>\n",
       "</tbody>\n",
       "</table>\n"
      ],
      "text/latex": [
       "A data.frame: 6 × 3\n",
       "\\begin{tabular}{r|lll}\n",
       "  & Province & GDP.per.capita & CCAA\\\\\n",
       "  & <chr> & <dbl> & <chr>\\\\\n",
       "\\hline\n",
       "\t1 & Almería & 20.873 & Andalucía y Extremadura\\\\\n",
       "\t2 & Cádiz   & 18.029 & Andalucía y Extremadura\\\\\n",
       "\t3 & Córdoba & 17.292 & Andalucía y Extremadura\\\\\n",
       "\t4 & Granada & 17.167 & Andalucía y Extremadura\\\\\n",
       "\t5 & Huelva  & 18.207 & Andalucía y Extremadura\\\\\n",
       "\t6 & Jaén    & 16.433 & Andalucía y Extremadura\\\\\n",
       "\\end{tabular}\n"
      ],
      "text/markdown": [
       "\n",
       "A data.frame: 6 × 3\n",
       "\n",
       "| <!--/--> | Province &lt;chr&gt; | GDP.per.capita &lt;dbl&gt; | CCAA &lt;chr&gt; |\n",
       "|---|---|---|---|\n",
       "| 1 | Almería | 20.873 | Andalucía y Extremadura |\n",
       "| 2 | Cádiz   | 18.029 | Andalucía y Extremadura |\n",
       "| 3 | Córdoba | 17.292 | Andalucía y Extremadura |\n",
       "| 4 | Granada | 17.167 | Andalucía y Extremadura |\n",
       "| 5 | Huelva  | 18.207 | Andalucía y Extremadura |\n",
       "| 6 | Jaén    | 16.433 | Andalucía y Extremadura |\n",
       "\n"
      ],
      "text/plain": [
       "  Province GDP.per.capita CCAA                   \n",
       "1 Almería  20.873         Andalucía y Extremadura\n",
       "2 Cádiz    18.029         Andalucía y Extremadura\n",
       "3 Córdoba  17.292         Andalucía y Extremadura\n",
       "4 Granada  17.167         Andalucía y Extremadura\n",
       "5 Huelva   18.207         Andalucía y Extremadura\n",
       "6 Jaén     16.433         Andalucía y Extremadura"
      ]
     },
     "metadata": {},
     "output_type": "display_data"
    },
    {
     "name": "stdout",
     "output_type": "stream",
     "text": [
      "'data.frame':\t50 obs. of  3 variables:\n",
      " $ Province      : chr  \"Almería\" \"Cádiz\" \"Córdoba\" \"Granada\" ...\n",
      " $ GDP.per.capita: num  20.9 18 17.3 17.2 18.2 ...\n",
      " $ CCAA          : chr  \"Andalucía y Extremadura\" \"Andalucía y Extremadura\" \"Andalucía y Extremadura\" \"Andalucía y Extremadura\" ...\n"
     ]
    },
    {
     "data": {
      "text/html": [
       "<table>\n",
       "<caption>A data.frame: 6 × 2</caption>\n",
       "<thead>\n",
       "\t<tr><th></th><th scope=col>Province</th><th scope=col>HDI</th></tr>\n",
       "\t<tr><th></th><th scope=col>&lt;chr&gt;</th><th scope=col>&lt;dbl&gt;</th></tr>\n",
       "</thead>\n",
       "<tbody>\n",
       "\t<tr><th scope=row>1</th><td>Cádiz  </td><td>0.913</td></tr>\n",
       "\t<tr><th scope=row>2</th><td>Almería</td><td>0.915</td></tr>\n",
       "\t<tr><th scope=row>3</th><td>Jaén   </td><td>0.915</td></tr>\n",
       "\t<tr><th scope=row>4</th><td>Huelva </td><td>0.917</td></tr>\n",
       "\t<tr><th scope=row>5</th><td>Badajoz</td><td>0.919</td></tr>\n",
       "\t<tr><th scope=row>6</th><td>Córdoba</td><td>0.920</td></tr>\n",
       "</tbody>\n",
       "</table>\n"
      ],
      "text/latex": [
       "A data.frame: 6 × 2\n",
       "\\begin{tabular}{r|ll}\n",
       "  & Province & HDI\\\\\n",
       "  & <chr> & <dbl>\\\\\n",
       "\\hline\n",
       "\t1 & Cádiz   & 0.913\\\\\n",
       "\t2 & Almería & 0.915\\\\\n",
       "\t3 & Jaén    & 0.915\\\\\n",
       "\t4 & Huelva  & 0.917\\\\\n",
       "\t5 & Badajoz & 0.919\\\\\n",
       "\t6 & Córdoba & 0.920\\\\\n",
       "\\end{tabular}\n"
      ],
      "text/markdown": [
       "\n",
       "A data.frame: 6 × 2\n",
       "\n",
       "| <!--/--> | Province &lt;chr&gt; | HDI &lt;dbl&gt; |\n",
       "|---|---|---|\n",
       "| 1 | Cádiz   | 0.913 |\n",
       "| 2 | Almería | 0.915 |\n",
       "| 3 | Jaén    | 0.915 |\n",
       "| 4 | Huelva  | 0.917 |\n",
       "| 5 | Badajoz | 0.919 |\n",
       "| 6 | Córdoba | 0.920 |\n",
       "\n"
      ],
      "text/plain": [
       "  Province HDI  \n",
       "1 Cádiz    0.913\n",
       "2 Almería  0.915\n",
       "3 Jaén     0.915\n",
       "4 Huelva   0.917\n",
       "5 Badajoz  0.919\n",
       "6 Córdoba  0.920"
      ]
     },
     "metadata": {},
     "output_type": "display_data"
    },
    {
     "name": "stdout",
     "output_type": "stream",
     "text": [
      "'data.frame':\t50 obs. of  2 variables:\n",
      " $ Province: chr  \"Cádiz\" \"Almería\" \"Jaén\" \"Huelva\" ...\n",
      " $ HDI     : num  0.913 0.915 0.915 0.917 0.919 0.92 0.92 0.921 0.923 0.924 ...\n"
     ]
    }
   ],
   "source": [
    "head(GDP_data)\n",
    "str(GDP_data)\n",
    "head(HDI_data)\n",
    "str(HDI_data)"
   ]
  },
  {
   "cell_type": "markdown",
   "metadata": {},
   "source": [
    "# 3. - Glue together the two data frames by columns (one next to the other) using cbind(). We want the province to match on the same rows, so you need first to sort the rows of the two data frames by Province, using order() "
   ]
  },
  {
   "cell_type": "code",
   "execution_count": 14,
   "metadata": {},
   "outputs": [
    {
     "data": {
      "text/html": [
       "<table>\n",
       "<caption>A data.frame: 6 × 5</caption>\n",
       "<thead>\n",
       "\t<tr><th></th><th scope=col>Province</th><th scope=col>GDP.per.capita</th><th scope=col>CCAA</th><th scope=col>Province</th><th scope=col>HDI</th></tr>\n",
       "\t<tr><th></th><th scope=col>&lt;chr&gt;</th><th scope=col>&lt;dbl&gt;</th><th scope=col>&lt;chr&gt;</th><th scope=col>&lt;chr&gt;</th><th scope=col>&lt;dbl&gt;</th></tr>\n",
       "</thead>\n",
       "<tbody>\n",
       "\t<tr><th scope=row>48</th><td>Álava   </td><td>36.055</td><td>País Vasco Navarra y Rioja   </td><td>Álava   </td><td>0.990</td></tr>\n",
       "\t<tr><th scope=row>26</th><td>Albacete</td><td>17.864</td><td>Castilla-La Mancha           </td><td>Albacete</td><td>0.933</td></tr>\n",
       "\t<tr><th scope=row>34</th><td>Alicante</td><td>19.201</td><td>Comunitat Valenciana y Murcia</td><td>Alicante</td><td>0.930</td></tr>\n",
       "\t<tr><th scope=row>1</th><td>Almería </td><td>20.873</td><td>Andalucía y Extremadura      </td><td>Almería </td><td>0.915</td></tr>\n",
       "\t<tr><th scope=row>12</th><td>Asturias</td><td>21.634</td><td>Asturias y Cantabria         </td><td>Asturias</td><td>0.956</td></tr>\n",
       "\t<tr><th scope=row>16</th><td>Ávila   </td><td>18.382</td><td>Castilla y León              </td><td>Ávila   </td><td>0.952</td></tr>\n",
       "</tbody>\n",
       "</table>\n"
      ],
      "text/latex": [
       "A data.frame: 6 × 5\n",
       "\\begin{tabular}{r|lllll}\n",
       "  & Province & GDP.per.capita & CCAA & Province & HDI\\\\\n",
       "  & <chr> & <dbl> & <chr> & <chr> & <dbl>\\\\\n",
       "\\hline\n",
       "\t48 & Álava    & 36.055 & País Vasco Navarra y Rioja    & Álava    & 0.990\\\\\n",
       "\t26 & Albacete & 17.864 & Castilla-La Mancha            & Albacete & 0.933\\\\\n",
       "\t34 & Alicante & 19.201 & Comunitat Valenciana y Murcia & Alicante & 0.930\\\\\n",
       "\t1 & Almería  & 20.873 & Andalucía y Extremadura       & Almería  & 0.915\\\\\n",
       "\t12 & Asturias & 21.634 & Asturias y Cantabria          & Asturias & 0.956\\\\\n",
       "\t16 & Ávila    & 18.382 & Castilla y León               & Ávila    & 0.952\\\\\n",
       "\\end{tabular}\n"
      ],
      "text/markdown": [
       "\n",
       "A data.frame: 6 × 5\n",
       "\n",
       "| <!--/--> | Province &lt;chr&gt; | GDP.per.capita &lt;dbl&gt; | CCAA &lt;chr&gt; | Province &lt;chr&gt; | HDI &lt;dbl&gt; |\n",
       "|---|---|---|---|---|---|\n",
       "| 48 | Álava    | 36.055 | País Vasco Navarra y Rioja    | Álava    | 0.990 |\n",
       "| 26 | Albacete | 17.864 | Castilla-La Mancha            | Albacete | 0.933 |\n",
       "| 34 | Alicante | 19.201 | Comunitat Valenciana y Murcia | Alicante | 0.930 |\n",
       "| 1 | Almería  | 20.873 | Andalucía y Extremadura       | Almería  | 0.915 |\n",
       "| 12 | Asturias | 21.634 | Asturias y Cantabria          | Asturias | 0.956 |\n",
       "| 16 | Ávila    | 18.382 | Castilla y León               | Ávila    | 0.952 |\n",
       "\n"
      ],
      "text/plain": [
       "   Province GDP.per.capita CCAA                          Province HDI  \n",
       "48 Álava    36.055         País Vasco Navarra y Rioja    Álava    0.990\n",
       "26 Albacete 17.864         Castilla-La Mancha            Albacete 0.933\n",
       "34 Alicante 19.201         Comunitat Valenciana y Murcia Alicante 0.930\n",
       "1  Almería  20.873         Andalucía y Extremadura       Almería  0.915\n",
       "12 Asturias 21.634         Asturias y Cantabria          Asturias 0.956\n",
       "16 Ávila    18.382         Castilla y León               Ávila    0.952"
      ]
     },
     "metadata": {},
     "output_type": "display_data"
    }
   ],
   "source": [
    "GDP_data_ordered <- GDP_data[order(GDP_data$Province),]\n",
    "HDI_data_ordered <- HDI_data[order(HDI_data$Province),]\n",
    "all_data <- cbind(GDP_data_ordered, HDI_data_ordered)\n",
    "head(all_data)"
   ]
  },
  {
   "cell_type": "markdown",
   "metadata": {},
   "source": [
    "# 4. - The new data frame will contain two columns names \"Province\". remove one of the columns"
   ]
  },
  {
   "cell_type": "code",
   "execution_count": 45,
   "metadata": {},
   "outputs": [
    {
     "data": {
      "text/html": [
       "<table>\n",
       "<caption>A data.frame: 6 × 4</caption>\n",
       "<thead>\n",
       "\t<tr><th></th><th scope=col>Province</th><th scope=col>GDP.per.capita</th><th scope=col>CCAA</th><th scope=col>HDI</th></tr>\n",
       "\t<tr><th></th><th scope=col>&lt;chr&gt;</th><th scope=col>&lt;dbl&gt;</th><th scope=col>&lt;chr&gt;</th><th scope=col>&lt;dbl&gt;</th></tr>\n",
       "</thead>\n",
       "<tbody>\n",
       "\t<tr><th scope=row>48</th><td>Álava   </td><td>36.055</td><td>País Vasco Navarra y Rioja   </td><td>0.990</td></tr>\n",
       "\t<tr><th scope=row>26</th><td>Albacete</td><td>17.864</td><td>Castilla-La Mancha           </td><td>0.933</td></tr>\n",
       "\t<tr><th scope=row>34</th><td>Alicante</td><td>19.201</td><td>Comunitat Valenciana y Murcia</td><td>0.930</td></tr>\n",
       "\t<tr><th scope=row>1</th><td>Almería </td><td>20.873</td><td>Andalucía y Extremadura      </td><td>0.915</td></tr>\n",
       "\t<tr><th scope=row>12</th><td>Asturias</td><td>21.634</td><td>Asturias y Cantabria         </td><td>0.956</td></tr>\n",
       "\t<tr><th scope=row>16</th><td>Ávila   </td><td>18.382</td><td>Castilla y León              </td><td>0.952</td></tr>\n",
       "</tbody>\n",
       "</table>\n"
      ],
      "text/latex": [
       "A data.frame: 6 × 4\n",
       "\\begin{tabular}{r|llll}\n",
       "  & Province & GDP.per.capita & CCAA & HDI\\\\\n",
       "  & <chr> & <dbl> & <chr> & <dbl>\\\\\n",
       "\\hline\n",
       "\t48 & Álava    & 36.055 & País Vasco Navarra y Rioja    & 0.990\\\\\n",
       "\t26 & Albacete & 17.864 & Castilla-La Mancha            & 0.933\\\\\n",
       "\t34 & Alicante & 19.201 & Comunitat Valenciana y Murcia & 0.930\\\\\n",
       "\t1 & Almería  & 20.873 & Andalucía y Extremadura       & 0.915\\\\\n",
       "\t12 & Asturias & 21.634 & Asturias y Cantabria          & 0.956\\\\\n",
       "\t16 & Ávila    & 18.382 & Castilla y León               & 0.952\\\\\n",
       "\\end{tabular}\n"
      ],
      "text/markdown": [
       "\n",
       "A data.frame: 6 × 4\n",
       "\n",
       "| <!--/--> | Province &lt;chr&gt; | GDP.per.capita &lt;dbl&gt; | CCAA &lt;chr&gt; | HDI &lt;dbl&gt; |\n",
       "|---|---|---|---|---|\n",
       "| 48 | Álava    | 36.055 | País Vasco Navarra y Rioja    | 0.990 |\n",
       "| 26 | Albacete | 17.864 | Castilla-La Mancha            | 0.933 |\n",
       "| 34 | Alicante | 19.201 | Comunitat Valenciana y Murcia | 0.930 |\n",
       "| 1 | Almería  | 20.873 | Andalucía y Extremadura       | 0.915 |\n",
       "| 12 | Asturias | 21.634 | Asturias y Cantabria          | 0.956 |\n",
       "| 16 | Ávila    | 18.382 | Castilla y León               | 0.952 |\n",
       "\n"
      ],
      "text/plain": [
       "   Province GDP.per.capita CCAA                          HDI  \n",
       "48 Álava    36.055         País Vasco Navarra y Rioja    0.990\n",
       "26 Albacete 17.864         Castilla-La Mancha            0.933\n",
       "34 Alicante 19.201         Comunitat Valenciana y Murcia 0.930\n",
       "1  Almería  20.873         Andalucía y Extremadura       0.915\n",
       "12 Asturias 21.634         Asturias y Cantabria          0.956\n",
       "16 Ávila    18.382         Castilla y León               0.952"
      ]
     },
     "metadata": {},
     "output_type": "display_data"
    }
   ],
   "source": [
    "all_data <- all_data[-4]"
   ]
  },
  {
   "cell_type": "markdown",
   "metadata": {},
   "source": [
    "# 5. - Check that everything is fine with head() and tail(). The final data frame should have 4 columns: Province\tGDP.per.capita,\tCCAA and HDI. **With each province matching its CCAA**. (Fig, 1)"
   ]
  },
  {
   "cell_type": "code",
   "execution_count": 46,
   "metadata": {},
   "outputs": [
    {
     "data": {
      "text/html": [
       "<table>\n",
       "<caption>A data.frame: 6 × 4</caption>\n",
       "<thead>\n",
       "\t<tr><th></th><th scope=col>Province</th><th scope=col>GDP.per.capita</th><th scope=col>CCAA</th><th scope=col>HDI</th></tr>\n",
       "\t<tr><th></th><th scope=col>&lt;chr&gt;</th><th scope=col>&lt;dbl&gt;</th><th scope=col>&lt;chr&gt;</th><th scope=col>&lt;dbl&gt;</th></tr>\n",
       "</thead>\n",
       "<tbody>\n",
       "\t<tr><th scope=row>48</th><td>Álava   </td><td>36.055</td><td>País Vasco Navarra y Rioja   </td><td>0.990</td></tr>\n",
       "\t<tr><th scope=row>26</th><td>Albacete</td><td>17.864</td><td>Castilla-La Mancha           </td><td>0.933</td></tr>\n",
       "\t<tr><th scope=row>34</th><td>Alicante</td><td>19.201</td><td>Comunitat Valenciana y Murcia</td><td>0.930</td></tr>\n",
       "\t<tr><th scope=row>1</th><td>Almería </td><td>20.873</td><td>Andalucía y Extremadura      </td><td>0.915</td></tr>\n",
       "\t<tr><th scope=row>12</th><td>Asturias</td><td>21.634</td><td>Asturias y Cantabria         </td><td>0.956</td></tr>\n",
       "\t<tr><th scope=row>16</th><td>Ávila   </td><td>18.382</td><td>Castilla y León              </td><td>0.952</td></tr>\n",
       "</tbody>\n",
       "</table>\n"
      ],
      "text/latex": [
       "A data.frame: 6 × 4\n",
       "\\begin{tabular}{r|llll}\n",
       "  & Province & GDP.per.capita & CCAA & HDI\\\\\n",
       "  & <chr> & <dbl> & <chr> & <dbl>\\\\\n",
       "\\hline\n",
       "\t48 & Álava    & 36.055 & País Vasco Navarra y Rioja    & 0.990\\\\\n",
       "\t26 & Albacete & 17.864 & Castilla-La Mancha            & 0.933\\\\\n",
       "\t34 & Alicante & 19.201 & Comunitat Valenciana y Murcia & 0.930\\\\\n",
       "\t1 & Almería  & 20.873 & Andalucía y Extremadura       & 0.915\\\\\n",
       "\t12 & Asturias & 21.634 & Asturias y Cantabria          & 0.956\\\\\n",
       "\t16 & Ávila    & 18.382 & Castilla y León               & 0.952\\\\\n",
       "\\end{tabular}\n"
      ],
      "text/markdown": [
       "\n",
       "A data.frame: 6 × 4\n",
       "\n",
       "| <!--/--> | Province &lt;chr&gt; | GDP.per.capita &lt;dbl&gt; | CCAA &lt;chr&gt; | HDI &lt;dbl&gt; |\n",
       "|---|---|---|---|---|\n",
       "| 48 | Álava    | 36.055 | País Vasco Navarra y Rioja    | 0.990 |\n",
       "| 26 | Albacete | 17.864 | Castilla-La Mancha            | 0.933 |\n",
       "| 34 | Alicante | 19.201 | Comunitat Valenciana y Murcia | 0.930 |\n",
       "| 1 | Almería  | 20.873 | Andalucía y Extremadura       | 0.915 |\n",
       "| 12 | Asturias | 21.634 | Asturias y Cantabria          | 0.956 |\n",
       "| 16 | Ávila    | 18.382 | Castilla y León               | 0.952 |\n",
       "\n"
      ],
      "text/plain": [
       "   Province GDP.per.capita CCAA                          HDI  \n",
       "48 Álava    36.055         País Vasco Navarra y Rioja    0.990\n",
       "26 Albacete 17.864         Castilla-La Mancha            0.933\n",
       "34 Alicante 19.201         Comunitat Valenciana y Murcia 0.930\n",
       "1  Almería  20.873         Andalucía y Extremadura       0.915\n",
       "12 Asturias 21.634         Asturias y Cantabria          0.956\n",
       "16 Ávila    18.382         Castilla y León               0.952"
      ]
     },
     "metadata": {},
     "output_type": "display_data"
    },
    {
     "data": {
      "text/html": [
       "<table>\n",
       "<caption>A data.frame: 6 × 4</caption>\n",
       "<thead>\n",
       "\t<tr><th></th><th scope=col>Province</th><th scope=col>GDP.per.capita</th><th scope=col>CCAA</th><th scope=col>HDI</th></tr>\n",
       "\t<tr><th></th><th scope=col>&lt;chr&gt;</th><th scope=col>&lt;dbl&gt;</th><th scope=col>&lt;chr&gt;</th><th scope=col>&lt;dbl&gt;</th></tr>\n",
       "</thead>\n",
       "<tbody>\n",
       "\t<tr><th scope=row>29</th><td>Toledo    </td><td>19.251</td><td>Castilla-La Mancha           </td><td>0.933</td></tr>\n",
       "\t<tr><th scope=row>36</th><td>Valencia  </td><td>22.538</td><td>Comunitat Valenciana y Murcia</td><td>0.946</td></tr>\n",
       "\t<tr><th scope=row>24</th><td>Valladolid</td><td>23.947</td><td>Castilla y León              </td><td>0.978</td></tr>\n",
       "\t<tr><th scope=row>50</th><td>Vizcaya   </td><td>27.705</td><td>País Vasco Navarra y Rioja   </td><td>0.988</td></tr>\n",
       "\t<tr><th scope=row>25</th><td>Zamora    </td><td>17.952</td><td>Castilla y León              </td><td>0.959</td></tr>\n",
       "\t<tr><th scope=row>11</th><td>Zaragoza  </td><td>26.082</td><td>Aragon                       </td><td>0.968</td></tr>\n",
       "</tbody>\n",
       "</table>\n"
      ],
      "text/latex": [
       "A data.frame: 6 × 4\n",
       "\\begin{tabular}{r|llll}\n",
       "  & Province & GDP.per.capita & CCAA & HDI\\\\\n",
       "  & <chr> & <dbl> & <chr> & <dbl>\\\\\n",
       "\\hline\n",
       "\t29 & Toledo     & 19.251 & Castilla-La Mancha            & 0.933\\\\\n",
       "\t36 & Valencia   & 22.538 & Comunitat Valenciana y Murcia & 0.946\\\\\n",
       "\t24 & Valladolid & 23.947 & Castilla y León               & 0.978\\\\\n",
       "\t50 & Vizcaya    & 27.705 & País Vasco Navarra y Rioja    & 0.988\\\\\n",
       "\t25 & Zamora     & 17.952 & Castilla y León               & 0.959\\\\\n",
       "\t11 & Zaragoza   & 26.082 & Aragon                        & 0.968\\\\\n",
       "\\end{tabular}\n"
      ],
      "text/markdown": [
       "\n",
       "A data.frame: 6 × 4\n",
       "\n",
       "| <!--/--> | Province &lt;chr&gt; | GDP.per.capita &lt;dbl&gt; | CCAA &lt;chr&gt; | HDI &lt;dbl&gt; |\n",
       "|---|---|---|---|---|\n",
       "| 29 | Toledo     | 19.251 | Castilla-La Mancha            | 0.933 |\n",
       "| 36 | Valencia   | 22.538 | Comunitat Valenciana y Murcia | 0.946 |\n",
       "| 24 | Valladolid | 23.947 | Castilla y León               | 0.978 |\n",
       "| 50 | Vizcaya    | 27.705 | País Vasco Navarra y Rioja    | 0.988 |\n",
       "| 25 | Zamora     | 17.952 | Castilla y León               | 0.959 |\n",
       "| 11 | Zaragoza   | 26.082 | Aragon                        | 0.968 |\n",
       "\n"
      ],
      "text/plain": [
       "   Province   GDP.per.capita CCAA                          HDI  \n",
       "29 Toledo     19.251         Castilla-La Mancha            0.933\n",
       "36 Valencia   22.538         Comunitat Valenciana y Murcia 0.946\n",
       "24 Valladolid 23.947         Castilla y León               0.978\n",
       "50 Vizcaya    27.705         País Vasco Navarra y Rioja    0.988\n",
       "25 Zamora     17.952         Castilla y León               0.959\n",
       "11 Zaragoza   26.082         Aragon                        0.968"
      ]
     },
     "metadata": {},
     "output_type": "display_data"
    }
   ],
   "source": [
    "head(all_data)\n",
    "tail(all_data)"
   ]
  },
  {
   "cell_type": "markdown",
   "metadata": {},
   "source": [
    "# 6. - Create scatterplot of text using geom_point(). Plot the GDP.per.capita (x-axis) against the HDI (y-axis). Color the points by CCAA (use color=CCAA inside the aes() function of geom_point)."
   ]
  },
  {
   "cell_type": "code",
   "execution_count": 47,
   "metadata": {},
   "outputs": [
    {
     "ename": "ERROR",
     "evalue": "Error in .helpForCall(topicExpr, parent.frame()): no methods for ‘geom_point’ and no documentation for it as a function\n",
     "output_type": "error",
     "traceback": [
      "Error in .helpForCall(topicExpr, parent.frame()): no methods for ‘geom_point’ and no documentation for it as a function\nTraceback:\n",
      "1. `?`(geom_point())",
      "2. .helpForCall(topicExpr, parent.frame())",
      "3. stop(gettextf(\"no methods for %s and no documentation for it as a function\", \n .     sQuote(f)), domain = NA)"
     ]
    }
   ],
   "source": []
  }
 ],
 "metadata": {
  "kernelspec": {
   "display_name": "R",
   "language": "R",
   "name": "ir"
  },
  "language_info": {
   "codemirror_mode": "r",
   "file_extension": ".r",
   "mimetype": "text/x-r-source",
   "name": "R",
   "pygments_lexer": "r",
   "version": "4.0.0"
  }
 },
 "nbformat": 4,
 "nbformat_minor": 4
}
